{
 "cells": [
  {
   "cell_type": "code",
   "execution_count": 7,
   "id": "52c86bbc",
   "metadata": {},
   "outputs": [
    {
     "data": {
      "text/html": [
       "<div>\n",
       "<style scoped>\n",
       "    .dataframe tbody tr th:only-of-type {\n",
       "        vertical-align: middle;\n",
       "    }\n",
       "\n",
       "    .dataframe tbody tr th {\n",
       "        vertical-align: top;\n",
       "    }\n",
       "\n",
       "    .dataframe thead th {\n",
       "        text-align: right;\n",
       "    }\n",
       "</style>\n",
       "<table border=\"1\" class=\"dataframe\">\n",
       "  <thead>\n",
       "    <tr style=\"text-align: right;\">\n",
       "      <th></th>\n",
       "      <th>Column</th>\n",
       "      <th>ADF Statistic</th>\n",
       "      <th>p-value</th>\n",
       "      <th>Critical Values</th>\n",
       "      <th>Stationary</th>\n",
       "    </tr>\n",
       "  </thead>\n",
       "  <tbody>\n",
       "    <tr>\n",
       "      <th>0</th>\n",
       "      <td>EPU</td>\n",
       "      <td>-6.965944</td>\n",
       "      <td>8.914788e-10</td>\n",
       "      <td>{'1%': -3.4865346059036564, '5%': -2.886150985...</td>\n",
       "      <td>True</td>\n",
       "    </tr>\n",
       "    <tr>\n",
       "      <th>1</th>\n",
       "      <td>SYS</td>\n",
       "      <td>-1.782896</td>\n",
       "      <td>3.889857e-01</td>\n",
       "      <td>{'1%': -3.4901313156261384, '5%': -2.887712281...</td>\n",
       "      <td>False</td>\n",
       "    </tr>\n",
       "    <tr>\n",
       "      <th>2</th>\n",
       "      <td>MS</td>\n",
       "      <td>-1.255009</td>\n",
       "      <td>6.494962e-01</td>\n",
       "      <td>{'1%': -3.4865346059036564, '5%': -2.886150985...</td>\n",
       "      <td>False</td>\n",
       "    </tr>\n",
       "  </tbody>\n",
       "</table>\n",
       "</div>"
      ],
      "text/plain": [
       "  Column  ADF Statistic       p-value  \\\n",
       "0    EPU      -6.965944  8.914788e-10   \n",
       "1    SYS      -1.782896  3.889857e-01   \n",
       "2     MS      -1.255009  6.494962e-01   \n",
       "\n",
       "                                     Critical Values  Stationary  \n",
       "0  {'1%': -3.4865346059036564, '5%': -2.886150985...        True  \n",
       "1  {'1%': -3.4901313156261384, '5%': -2.887712281...       False  \n",
       "2  {'1%': -3.4865346059036564, '5%': -2.886150985...       False  "
      ]
     },
     "metadata": {},
     "output_type": "display_data"
    }
   ],
   "source": [
    "import pandas as pd\n",
    "from statsmodels.tsa.stattools import adfuller\n",
    "from IPython.display import display\n",
    "\n",
    "# Read file\n",
    "data = pd.read_excel(\"Raw_data.xlsx\")\n",
    "\n",
    "# Function to perform the Augmented Dickey–Fuller test\n",
    "def adf_test(series, column_name):\n",
    "    result = adfuller(series)\n",
    "    return {\n",
    "        \"Column\": column_name,\n",
    "        \"ADF Statistic\": result[0],\n",
    "        \"p-value\": result[1],\n",
    "        \"Critical Values\": result[4],\n",
    "        \"Stationary\": result[1] < 0.05\n",
    "    }\n",
    "\n",
    "# Apply the test to each column except the date\n",
    "results = [\n",
    "    adf_test(data[column], column) for column in data.columns if column != 'Dates'\n",
    "]\n",
    "\n",
    "# Save the results to a file for user reference\n",
    "output_path = 'ADF_Test_Raw_Stationarity_Results.xlsx'\n",
    "results_df.to_excel(output_path, index=False)\n",
    "\n",
    "# Convert results to a DataFrame\n",
    "results_df = pd.DataFrame(results)\n",
    "\n",
    "# Display results\n",
    "display(results_df)\n"
   ]
  }
 ],
 "metadata": {
  "kernelspec": {
   "display_name": "Python 3 (ipykernel)",
   "language": "python",
   "name": "python3"
  },
  "language_info": {
   "codemirror_mode": {
    "name": "ipython",
    "version": 3
   },
   "file_extension": ".py",
   "mimetype": "text/x-python",
   "name": "python",
   "nbconvert_exporter": "python",
   "pygments_lexer": "ipython3",
   "version": "3.11.3"
  }
 },
 "nbformat": 4,
 "nbformat_minor": 5
}
